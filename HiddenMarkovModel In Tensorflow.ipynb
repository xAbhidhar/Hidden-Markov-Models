{
 "cells": [
  {
   "cell_type": "markdown",
   "metadata": {},
   "source": [
    "## HMM Fundamentals\n",
    "\n",
    "**HMM recap:**\n",
    "* Undirected graphical model.\n",
    "* Connections between nodes indicate dependence.\n",
    "* We observe $Y_1$ through $Y_n$, which we model as being observed from hidden states $S_1$ through $S_n$.\n",
    "* Any particular state variable $S_k$ depends only on $S_{k−1}$ (what came before it), $S_{k+1}$ (what comes after it), and $Y_k$ (the observation associated with it).\n",
    "\n",
    "** HMM are specified by three sets of parameters**\n",
    "\n",
    "* ** Transition distribution:**\n",
    "    * describes the distribution for the next state given the current state.\n",
    "    * $P(next State| current State)$\n",
    "<br>\n",
    "<br>\n",
    "* ** Emission distribution:**\n",
    "    * describes the distribution for the output given the current state.\n",
    "    * $P(Observation|current State)$\n",
    "<br>\n",
    "<br>\n",
    "* ** Initial state distribution:**\n",
    "    * describes the starting distribution over states.\n",
    "    * $P(initial State)$"
   ]
  },
  {
   "cell_type": "markdown",
   "metadata": {},
   "source": [
    "![](images/hmm.png)"
   ]
  },
  {
   "cell_type": "markdown",
   "metadata": {},
   "source": [
    "### State Transitions"
   ]
  },
  {
   "cell_type": "markdown",
   "metadata": {},
   "source": [
    "<img src=\"images/trans2.png\" width=\"500\" height=\"500\" />"
   ]
  },
  {
   "cell_type": "markdown",
   "metadata": {},
   "source": [
    "## Viterbi Algorithm\n",
    "* Efficient way of finding the most likely state sequence.\n",
    "* Method is general statistical framework of compound decision theory. \n",
    "* Maximizes a posteriori probability recursively.\n",
    "* Assumed to have a finite-state discrete-time Markov process.\n",
    "\n",
    "**Maximum a posteri (MAP) probability, given by:** <br>\n",
    "$$P(States|Observations) = \\dfrac{P(Observations)| States)P(States)}{P(Observations)}$$"
   ]
  },
  {
   "cell_type": "markdown",
   "metadata": {},
   "source": [
    "Given a hidden Markov model (HMM) with:\n",
    "* State space S\n",
    "* Initial probabilities $\\pi_i$ of being in state $i$\n",
    "* Transition probabilities $a_{i,j}$ of transitioning from state i to state j.\n",
    "* We observe outputs $y_1$,$\\dots$, $y_T$.\n",
    "* The most likely state sequence $x_1$,$\\dots$,$x_T$ that produces the observations is given by the recurrence relations:"
   ]
  },
  {
   "cell_type": "markdown",
   "metadata": {},
   "source": [
    "$$ V_{1,k} = P(y_1 | k) \\cdot \\pi_k$$\n",
    "\n",
    "$$ V_{t,k} = max_x(P(y_t|k)\\cdot a_{x,k} \\cdot V_{t-1,x}$$\n",
    "\n",
    "* $V_{t,k}$ is the probability of the most probable state sequence $\\mathrm{P}\\big(x_1,\\dots,x_T,y_1,\\dots, y_T\\big)$\n",
    "* The Viterbi path can be retrieved by saving back pointers that remember which state x was used in the second equation.\n",
    "* Let $\\mathrm{Ptr}(k,t)$ be the function that returns the value of x used to compute $V_{t,k}$ if $t > 1$, or $k$ if $t=1$. Then:\n",
    "\n",
    "$$ x_T = argmax_x(V_{T,x})$$\n",
    "\n",
    "$$ x_{t-1} = Ptr(x_{t}, t)$$"
   ]
  },
  {
   "cell_type": "markdown",
   "metadata": {},
   "source": [
    "### Shortest Route Task\n",
    "The MAP sequence estimation problem previously stated can also be viewed as the problem of finding the shortest route through a certain graph.\n",
    "\n",
    "**Representing an HMM as a trellis**\n",
    "* Each node corresponds to a distinct state at a given time\n",
    "* Each arrow represents a transition to some new state at the next instant of time.\n",
    "* The trellis begins and ends at the known states c0 and cn.\n",
    "* Its most important property is that to every possible state sequence C there corresponds a unique path through the trellis, and vice versa."
   ]
  },
  {
   "cell_type": "markdown",
   "metadata": {},
   "source": [
    "![](images/graph1.gif)"
   ]
  },
  {
   "cell_type": "markdown",
   "metadata": {},
   "source": [
    "* Assign to every path a length proportional to $-log [p(Observations)| States)+P(States)]$.\n",
    "* $log()$ is a monotonic function and there is a one-to-one correspondence between paths and sequences, we only need to find the path whose $-log [p(Observations)| States)+P(States)]$ is minimum.\n",
    "* This will give us the state sequence for which $p(Observations)| States) \\cdot P(States)$ is maximum.\n",
    "* This is the state sequence with the maximum a posteriori (MAP) probability.\n",
    "\n",
    "#### Graph Search\n",
    "Four-state trellis covering five time units."
   ]
  },
  {
   "cell_type": "markdown",
   "metadata": {},
   "source": [
    "![](images/graph2.gif)"
   ]
  },
  {
   "cell_type": "markdown",
   "metadata": {},
   "source": [
    "#### Recursive Steps\n",
    "The 5 recursive steps by which the algorithm determines the shortest path from the initial to the final node are shown in here. At each step only the 4 (or fewer) survivors are shown, along with their lengths."
   ]
  },
  {
   "cell_type": "markdown",
   "metadata": {},
   "source": [
    "![](images/graph3.gif)"
   ]
  },
  {
   "cell_type": "markdown",
   "metadata": {},
   "source": [
    "### Imports"
   ]
  },
  {
   "cell_type": "code",
   "execution_count": 2,
   "metadata": {},
   "outputs": [],
   "source": [
    "import tensorflow as tf\n",
    "import numpy as np\n",
    "from __future__ import print_function\n",
    "import matplotlib.pyplot as plt\n",
    "import seaborn as sns\n",
    "import pandas as pd\n",
    "%matplotlib inline"
   ]
  },
  {
   "cell_type": "code",
   "execution_count": 3,
   "metadata": {
    "collapsed": true
   },
   "outputs": [],
   "source": [
    "def dptable(state_prob):\n",
    "    print(\" \".join((\"%8d\" % i) for i in range(state_prob.shape[0])))\n",
    "    for i, prob in enumerate(state_prob.T):\n",
    "        print(\"%.7s: \" % states[i] +\" \".join(\"%.7s\" % (\"%f\" % p) for p in prob))"
   ]
  },
  {
   "cell_type": "code",
   "execution_count": 4,
   "metadata": {
    "collapsed": true
   },
   "outputs": [],
   "source": [
    "def highlight_max(s):\n",
    "    '''\n",
    "    highlight the maximum in a Series yellow.\n",
    "    '''\n",
    "    is_max = s == s.max()\n",
    "    return ['background-color: yellow' if v else '' for v in is_max]"
   ]
  },
  {
   "cell_type": "code",
   "execution_count": 5,
   "metadata": {},
   "outputs": [],
   "source": [
    "from HiddenMarkovModel import HiddenMarkovModel"
   ]
  },
  {
   "cell_type": "markdown",
   "metadata": {},
   "source": [
    "## Viterbi Example\n",
    "\n",
    "Let's consider the following simple HMM.\n",
    "* Composed of 2 hidden states: Healthy and Fever.\n",
    "* Composed of 3 possible observation: Normal, Cold, Dizzy\n",
    "\n",
    "The model can then be used to predict if a person is feverish at every timestep from a given observation sequence. There are several paths through the hidden states (Healthy and Fever) that lead to the given sequence, but they do not have the same probability.\n",
    "\n",
    "The Viterbi algorithm is a dynamical programming algorithm that allows us to compute the most probable path. This package will compute recursively the probability of the most probable path. \n",
    "\n",
    "Note: for the calculations, it is convenient to use the log of the probabilities. Indeed, this allows us to compute sums instead of products, which is more efficient and accurate."
   ]
  },
  {
   "cell_type": "markdown",
   "metadata": {},
   "source": [
    "![](images/Viterbi.gif)"
   ]
  },
  {
   "cell_type": "markdown",
   "metadata": {},
   "source": [
    "### Model Parameters"
   ]
  },
  {
   "cell_type": "code",
   "execution_count": 6,
   "metadata": {},
   "outputs": [],
   "source": [
    "p0 = np.array([0.6, 0.4])\n",
    "\n",
    "emi = np.array([[0.5, 0.1],\n",
    "                [0.4, 0.3],\n",
    "                [0.1, 0.6]])\n",
    "\n",
    "trans = np.array([[0.7, 0.3],\n",
    "                  [0.4, 0.6]])\n",
    "\n",
    "states = {0:'Healthy', 1:'Fever'}\n",
    "obs = {0:'normal', 1:'cold', 2:'dizzy'}\n",
    "\n",
    "obs_seq = np.array([0, 0, 1, 2, 2])"
   ]
  },
  {
   "cell_type": "code",
   "execution_count": 7,
   "metadata": {
    "collapsed": true
   },
   "outputs": [],
   "source": [
    "df_p0 = pd.DataFrame(p0, index=[\"Healthy\", \"Fever\"], columns=[\"Prob\"])\n",
    "df_emi = pd.DataFrame(emi, index=[\"Normal\", \"Cold\", \"Dizzy\"], columns=[\"Healthy\", \"Fever\"])\n",
    "df_trans = pd.DataFrame(trans, index=[\"fromHealthy\", \"fromFever\"], columns=[\"toHealthy\", \"toFever\"])"
   ]
  },
  {
   "cell_type": "markdown",
   "metadata": {},
   "source": [
    "### Inital state probability"
   ]
  },
  {
   "cell_type": "code",
   "execution_count": 8,
   "metadata": {},
   "outputs": [
    {
     "data": {
      "text/html": [
       "<div>\n",
       "<table border=\"1\" class=\"dataframe\">\n",
       "  <thead>\n",
       "    <tr style=\"text-align: right;\">\n",
       "      <th></th>\n",
       "      <th>Prob</th>\n",
       "    </tr>\n",
       "  </thead>\n",
       "  <tbody>\n",
       "    <tr>\n",
       "      <th>Healthy</th>\n",
       "      <td>0.6</td>\n",
       "    </tr>\n",
       "    <tr>\n",
       "      <th>Fever</th>\n",
       "      <td>0.4</td>\n",
       "    </tr>\n",
       "  </tbody>\n",
       "</table>\n",
       "</div>"
      ],
      "text/plain": [
       "         Prob\n",
       "Healthy   0.6\n",
       "Fever     0.4"
      ]
     },
     "execution_count": 8,
     "metadata": {},
     "output_type": "execute_result"
    }
   ],
   "source": [
    "df_p0"
   ]
  },
  {
   "cell_type": "markdown",
   "metadata": {},
   "source": [
    "### Transition Probability Matrix"
   ]
  },
  {
   "cell_type": "code",
   "execution_count": 9,
   "metadata": {
    "scrolled": true
   },
   "outputs": [
    {
     "data": {
      "text/html": [
       "<div>\n",
       "<table border=\"1\" class=\"dataframe\">\n",
       "  <thead>\n",
       "    <tr style=\"text-align: right;\">\n",
       "      <th></th>\n",
       "      <th>toHealthy</th>\n",
       "      <th>toFever</th>\n",
       "    </tr>\n",
       "  </thead>\n",
       "  <tbody>\n",
       "    <tr>\n",
       "      <th>fromHealthy</th>\n",
       "      <td>0.7</td>\n",
       "      <td>0.3</td>\n",
       "    </tr>\n",
       "    <tr>\n",
       "      <th>fromFever</th>\n",
       "      <td>0.4</td>\n",
       "      <td>0.6</td>\n",
       "    </tr>\n",
       "  </tbody>\n",
       "</table>\n",
       "</div>"
      ],
      "text/plain": [
       "             toHealthy  toFever\n",
       "fromHealthy        0.7      0.3\n",
       "fromFever          0.4      0.6"
      ]
     },
     "execution_count": 9,
     "metadata": {},
     "output_type": "execute_result"
    }
   ],
   "source": [
    "df_trans"
   ]
  },
  {
   "cell_type": "markdown",
   "metadata": {},
   "source": [
    "### Emission Probability Matrix"
   ]
  },
  {
   "cell_type": "code",
   "execution_count": 10,
   "metadata": {},
   "outputs": [
    {
     "data": {
      "text/html": [
       "<div>\n",
       "<table border=\"1\" class=\"dataframe\">\n",
       "  <thead>\n",
       "    <tr style=\"text-align: right;\">\n",
       "      <th></th>\n",
       "      <th>Healthy</th>\n",
       "      <th>Fever</th>\n",
       "    </tr>\n",
       "  </thead>\n",
       "  <tbody>\n",
       "    <tr>\n",
       "      <th>Normal</th>\n",
       "      <td>0.5</td>\n",
       "      <td>0.1</td>\n",
       "    </tr>\n",
       "    <tr>\n",
       "      <th>Cold</th>\n",
       "      <td>0.4</td>\n",
       "      <td>0.3</td>\n",
       "    </tr>\n",
       "    <tr>\n",
       "      <th>Dizzy</th>\n",
       "      <td>0.1</td>\n",
       "      <td>0.6</td>\n",
       "    </tr>\n",
       "  </tbody>\n",
       "</table>\n",
       "</div>"
      ],
      "text/plain": [
       "        Healthy  Fever\n",
       "Normal      0.5    0.1\n",
       "Cold        0.4    0.3\n",
       "Dizzy       0.1    0.6"
      ]
     },
     "execution_count": 10,
     "metadata": {},
     "output_type": "execute_result"
    }
   ],
   "source": [
    "df_emi"
   ]
  },
  {
   "cell_type": "markdown",
   "metadata": {},
   "source": [
    "### Run Viterbi"
   ]
  },
  {
   "cell_type": "code",
   "execution_count": 11,
   "metadata": {
    "scrolled": true
   },
   "outputs": [
    {
     "name": "stdout",
     "output_type": "stream",
     "text": [
      "Observation sequence:  ['normal', 'normal', 'cold', 'dizzy', 'dizzy']\n"
     ]
    },
    {
     "data": {
      "text/html": [
       "\n",
       "        <style  type=\"text/css\" >\n",
       "        \n",
       "        \n",
       "            #T_aa77dfb3_17bf_11e6_8a49_a0999b177713row0_col0 {\n",
       "            \n",
       "                background-color:  yellow;\n",
       "            \n",
       "            }\n",
       "        \n",
       "            #T_aa77dfb3_17bf_11e6_8a49_a0999b177713row0_col1 {\n",
       "            \n",
       "                background-color:  yellow;\n",
       "            \n",
       "            }\n",
       "        \n",
       "            #T_aa77dfb3_17bf_11e6_8a49_a0999b177713row0_col2 {\n",
       "            \n",
       "                background-color:  yellow;\n",
       "            \n",
       "            }\n",
       "        \n",
       "            #T_aa77dfb3_17bf_11e6_8a49_a0999b177713row1_col3 {\n",
       "            \n",
       "                background-color:  yellow;\n",
       "            \n",
       "            }\n",
       "        \n",
       "            #T_aa77dfb3_17bf_11e6_8a49_a0999b177713row1_col4 {\n",
       "            \n",
       "                background-color:  yellow;\n",
       "            \n",
       "            }\n",
       "        \n",
       "        </style>\n",
       "\n",
       "        <table id=\"T_aa77dfb3_17bf_11e6_8a49_a0999b177713\" None>\n",
       "        \n",
       "\n",
       "        <thead>\n",
       "            \n",
       "            <tr>\n",
       "                \n",
       "                <th class=\"blank\">\n",
       "                \n",
       "                <th class=\"col_heading level0 col0\">0\n",
       "                \n",
       "                <th class=\"col_heading level0 col1\">1\n",
       "                \n",
       "                <th class=\"col_heading level0 col2\">2\n",
       "                \n",
       "                <th class=\"col_heading level0 col3\">3\n",
       "                \n",
       "                <th class=\"col_heading level0 col4\">4\n",
       "                \n",
       "            </tr>\n",
       "            \n",
       "        </thead>\n",
       "        <tbody>\n",
       "            \n",
       "            <tr>\n",
       "                \n",
       "                <th id=\"T_aa77dfb3_17bf_11e6_8a49_a0999b177713\" class=\"row_heading level4 row0\">\n",
       "                    Healthy\n",
       "                \n",
       "                <td id=\"T_aa77dfb3_17bf_11e6_8a49_a0999b177713row0_col0\" class=\"data row0 col0\">\n",
       "                    0.3\n",
       "                \n",
       "                <td id=\"T_aa77dfb3_17bf_11e6_8a49_a0999b177713row0_col1\" class=\"data row0 col1\">\n",
       "                    0.105\n",
       "                \n",
       "                <td id=\"T_aa77dfb3_17bf_11e6_8a49_a0999b177713row0_col2\" class=\"data row0 col2\">\n",
       "                    0.0294\n",
       "                \n",
       "                <td id=\"T_aa77dfb3_17bf_11e6_8a49_a0999b177713row0_col3\" class=\"data row0 col3\">\n",
       "                    0.002058\n",
       "                \n",
       "                <td id=\"T_aa77dfb3_17bf_11e6_8a49_a0999b177713row0_col4\" class=\"data row0 col4\">\n",
       "                    0.00021168\n",
       "                \n",
       "            </tr>\n",
       "            \n",
       "            <tr>\n",
       "                \n",
       "                <th id=\"T_aa77dfb3_17bf_11e6_8a49_a0999b177713\" class=\"row_heading level4 row1\">\n",
       "                    Fever\n",
       "                \n",
       "                <td id=\"T_aa77dfb3_17bf_11e6_8a49_a0999b177713row1_col0\" class=\"data row1 col0\">\n",
       "                    0.04\n",
       "                \n",
       "                <td id=\"T_aa77dfb3_17bf_11e6_8a49_a0999b177713row1_col1\" class=\"data row1 col1\">\n",
       "                    0.009\n",
       "                \n",
       "                <td id=\"T_aa77dfb3_17bf_11e6_8a49_a0999b177713row1_col2\" class=\"data row1 col2\">\n",
       "                    0.00945\n",
       "                \n",
       "                <td id=\"T_aa77dfb3_17bf_11e6_8a49_a0999b177713row1_col3\" class=\"data row1 col3\">\n",
       "                    0.005292\n",
       "                \n",
       "                <td id=\"T_aa77dfb3_17bf_11e6_8a49_a0999b177713row1_col4\" class=\"data row1 col4\">\n",
       "                    0.00190512\n",
       "                \n",
       "            </tr>\n",
       "            \n",
       "        </tbody>\n",
       "        </table>\n",
       "        "
      ],
      "text/plain": [
       "<pandas.formats.style.Styler at 0x113f6ed10>"
      ]
     },
     "execution_count": 11,
     "metadata": {},
     "output_type": "execute_result"
    }
   ],
   "source": [
    "model =  HiddenMarkovModel(trans, emi, p0)\n",
    "states_seq, state_prob = model.run_viterbi(obs_seq, summary=True)\n",
    "\n",
    "print(\"Observation sequence: \", [obs[o] for o in obs_seq])\n",
    "df = pd.DataFrame(state_prob.T, index=[\"Healthy\", \"Fever\"])\n",
    "df.style.apply(highlight_max, axis=0)"
   ]
  },
  {
   "cell_type": "code",
   "execution_count": 12,
   "metadata": {
    "scrolled": true
   },
   "outputs": [
    {
     "name": "stdout",
     "output_type": "stream",
     "text": [
      "Most likely States:  ['Healthy', 'Healthy', 'Healthy', 'Fever', 'Fever']\n"
     ]
    }
   ],
   "source": [
    "print(\"Most likely States: \",[states[s] for s in states_seq])"
   ]
  },
  {
   "cell_type": "markdown",
   "metadata": {},
   "source": [
    "## Visualize the Computation Graph with Tensorboard\n",
    "\n",
    "Each nodes expends into an exploded view of the computation graph generated by Tensorflow.\n",
    "Check it out!\n",
    "\n",
    "**Run Tensorboard on command line :**\n",
    "\n",
    "> tensorboard --logdir= [graph/file/location](https://github.com/MarvinBertin/HiddenMarkovModel_TensorFlow/tree/master/TensorBoard/Viterbi)\n"
   ]
  },
  {
   "cell_type": "markdown",
   "metadata": {},
   "source": [
    "![](images/viterbi.png)"
   ]
  },
  {
   "cell_type": "markdown",
   "metadata": {},
   "source": [
    "# Forward - Backward Algorithm"
   ]
  },
  {
   "cell_type": "markdown",
   "metadata": {},
   "source": [
    "** Overview **\n",
    "* The goal of the forward-backward algorithm is to find the conditional distribution over hidden states given the data.\n",
    "\n",
    "* It is used to find the most likely state for any point in time.\n",
    "* It cannot, however, be used to find the most likely sequence of states (see Viterbi)\n",
    "\n",
    "**The forward–backward algorithm:**\n",
    "* Inference algorithm for hidden Markov models.\n",
    "* Computes posterior marginals of all hidden state variables given a sequence of observations/emissions.\n",
    "* Computes, for all hidden state variables $S_k \\in \\{S_1, \\dots, S_t\\}$, the distribution $P(S_k\\ |\\ o_{1:t})$.\n",
    "* This inference task is usually called smoothing.\n",
    "* The algorithm makes use of the principle of dynamic programming to compute efficiently the values that are required to obtain the posterior marginal distributions in two passes.\n",
    "* The first pass goes forward in time while the second goes backward in time."
   ]
  },
  {
   "cell_type": "markdown",
   "metadata": {},
   "source": [
    "### Visualization of the Forward and Backward Messages\n",
    "* Each message is a table that indicates what the node at the start point believes about the node at the end point."
   ]
  },
  {
   "cell_type": "markdown",
   "metadata": {},
   "source": [
    "![](images/FB1.png)"
   ]
  },
  {
   "cell_type": "markdown",
   "metadata": {},
   "source": [
    "### Computing Message Passing\n",
    "**Forward message**\n",
    "* $α_k$ represents a message from $k − 1$ to $k$ that includes $p_{Y|X}(y_k|x_k)$.\n",
    "<br>\n",
    "\n",
    "** Backward message** \n",
    "* $β_k$ represents a message from $k + 1$ to $k$."
   ]
  },
  {
   "cell_type": "markdown",
   "metadata": {},
   "source": [
    "![](images/FB3.png)"
   ]
  },
  {
   "cell_type": "markdown",
   "metadata": {},
   "source": [
    "### Probability interpretation of message passing\n",
    "\n",
    "**Forward message**\n",
    "* The probability of ending up in any particular state given the first k observations in the sequence.\n",
    "<br>\n",
    "\n",
    "\n",
    "** Backward message** \n",
    "* The probability of observing the remaining observations given any starting point k"
   ]
  },
  {
   "cell_type": "markdown",
   "metadata": {},
   "source": [
    "![](images/eq3.png)"
   ]
  },
  {
   "cell_type": "markdown",
   "metadata": {},
   "source": [
    "### Smoothing Step\n",
    "** Represent the conditional probability of being in state $S_i$ at time $t$ given the observation sequence**\n",
    "\n",
    "* The initial forward $α$ message is initialized to $α_1(x_1) = P_{X_1}(x_1)P_{Y|X}(y_1|x_1)$.\n",
    "* To obtain a marginal distribution, we simply multiply the messages together and normalize:\n",
    "* The smoothing step allows the algorithm to take into account any past observations of output for computing more accurate results."
   ]
  },
  {
   "cell_type": "markdown",
   "metadata": {},
   "source": [
    "![](images/eq4.png)"
   ]
  },
  {
   "cell_type": "markdown",
   "metadata": {},
   "source": [
    "### Visualizing Message Passing for  $m_{2→3}(x_3)$\n",
    "In order for node 2 to summarize its belief about $X_3$, it must incorporate: \n",
    "* The previous message $m_{1→2}(x_2)$\n",
    "* Its observation $p_{Y|X}(y_2|x_2)$\n",
    "* The relationship $W(x_3|x_2)$ between $X_2$ and $X_3$."
   ]
  },
  {
   "cell_type": "markdown",
   "metadata": {},
   "source": [
    "![](images/FB4.png)"
   ]
  },
  {
   "cell_type": "markdown",
   "metadata": {},
   "source": [
    "## Forward-Backward Example\n",
    "\n",
    "Let's condiser a situation where you work in a shopping mall with no views to the outside.\n",
    "You wish to infer the weather outside (Rain, No Rain) at the present moment, given only obervations of passerby with or without an umbrella."
   ]
  },
  {
   "cell_type": "markdown",
   "metadata": {},
   "source": [
    "### Define Model Parameters"
   ]
  },
  {
   "cell_type": "code",
   "execution_count": 23,
   "metadata": {},
   "outputs": [],
   "source": [
    "p0 = np.array([0.5, 0.5])\n",
    "\n",
    "emi = np.array([[0.9, 0.2],\n",
    "                [0.1, 0.8]])\n",
    "\n",
    "trans = np.array([[0.7, 0.3],\n",
    "                  [0.3, 0.7]])\n",
    "\n",
    "states = {0:'rain', 1:'no_rain'}\n",
    "obs = {0:'umbrella', 1:'no_umbrella'}\n",
    "\n",
    "obs_seq = np.array([1, 1, 0, 0, 0, 1])"
   ]
  },
  {
   "cell_type": "markdown",
   "metadata": {
    "collapsed": true
   },
   "source": [
    "## Run Forward-Backward"
   ]
  },
  {
   "cell_type": "code",
   "execution_count": 24,
   "metadata": {},
   "outputs": [
    {
     "name": "stdout",
     "output_type": "stream",
     "text": [
      "\n",
      "Forward\n",
      "       0        1        2        3        4        5        6\n",
      "rain: 0.50000 0.11111 0.06163 0.68386 0.85819 0.89029 0.19256\n",
      "no_rain: 0.50000 0.88888 0.93837 0.31613 0.14180 0.10971 0.80743\n",
      "\n",
      "\n",
      "Backward\n",
      "       0        1        2        3        4        5        6\n",
      "rain: 0.32814 0.37709 0.65637 0.64477 0.58110 0.34444 1.00000\n",
      "no_rain: 0.67186 0.62290 0.34363 0.35522 0.41889 0.65555 1.00000\n",
      "\n",
      "\n",
      "Posterior\n",
      "       0        1        2        3        4        5        6\n",
      "rain: 0.32814 0.07035 0.11146 0.79701 0.89357 0.81002 0.19256\n",
      "no_rain: 0.67186 0.92965 0.88853 0.20298 0.10643 0.18997 0.80743\n",
      "\n",
      "============================================================\n",
      "Most likely Final State:  no_rain\n",
      "============================================================\n"
     ]
    }
   ],
   "source": [
    "from forward_bakward import HiddenMarkovModel_FB\n",
    "model =  HiddenMarkovModel_FB(trans, emi, p0)\n",
    "\n",
    "results = model.run_forward_backward(obs_seq)\n",
    "result_list = [\"Forward\", \"Backward\", \"Posterior\"]\n",
    "\n",
    "for state_prob, path in zip(results, result_list) :\n",
    "    inferred_states = np.argmax(state_prob, axis=1)\n",
    "    print()\n",
    "    print(path)\n",
    "    dptable(state_prob)\n",
    "    print()\n",
    "\n",
    "print(\"=\"*60)\n",
    "print(\"Most likely Final State: \",states[inferred_states[-1]])\n",
    "print(\"=\"*60)"
   ]
  },
  {
   "cell_type": "markdown",
   "metadata": {},
   "source": [
    "## Baum Welch Algorithm\n",
    "\n",
    "Baum–Welch algorithm is used to infer unknown parameters of a Hidden Markov Model.\n",
    "\n",
    "**Model Parameters:**\n",
    "* Initial State Probabilities\n",
    "* Transition Matrix\n",
    "* Emission Matrix\n",
    "\n",
    "\n",
    "** Expectation-Maximization ** <br>\n",
    "It makes use of the forward-backward algorithm to update the hypothesis."
   ]
  },
  {
   "cell_type": "markdown",
   "metadata": {},
   "source": [
    "![](images/EM3.jpg)"
   ]
  },
  {
   "cell_type": "markdown",
   "metadata": {},
   "source": [
    "## Visualizing Expectation-Maximization"
   ]
  },
  {
   "cell_type": "markdown",
   "metadata": {},
   "source": [
    "![](images/EM1.png)"
   ]
  },
  {
   "cell_type": "markdown",
   "metadata": {},
   "source": [
    "### Compute Variable Updates (Expectation step)"
   ]
  },
  {
   "cell_type": "markdown",
   "metadata": {},
   "source": [
    "**Calculate the temporary variables, according to Bayes' theorem:** <br>\n",
    "It's the probability of being in state $i$ at time $t$ given the observed sequence $Y$ and the parameters $\\theta$"
   ]
  },
  {
   "cell_type": "markdown",
   "metadata": {},
   "source": [
    "$$\\gamma_i(t)=P(X_t=i|Y,\\theta) = \\frac{\\alpha_i(t)\\beta_i(t)}{\\sum_{j=1}^N \\alpha_j(t)\\beta_j(t)}$$\n"
   ]
  },
  {
   "cell_type": "markdown",
   "metadata": {},
   "source": [
    "The probability of being in state $i$ and $j$ at times $t$ and $t+1$ respectively given the observed sequence $Y$ and parameters $\\theta$."
   ]
  },
  {
   "cell_type": "markdown",
   "metadata": {},
   "source": [
    "$$\\xi_{ij}(t)=P(X_t=i,X_{t+1}=j|Y,\\theta)=\\frac{\\alpha_i(t) a_{ij} \\beta_j(t+1) b_j(y_{t+1})}{\\sum_{k=1}^N \\alpha_k(T)}$$"
   ]
  },
  {
   "cell_type": "markdown",
   "metadata": {},
   "source": [
    "**Update Inital State Probability**<br>\n",
    "It's expected frequency spent in state i at time 1."
   ]
  },
  {
   "cell_type": "markdown",
   "metadata": {},
   "source": [
    "$$\\pi_i^* = \\gamma_i(1)$$"
   ]
  },
  {
   "cell_type": "markdown",
   "metadata": {},
   "source": [
    "** Update Transition Matrix** <br>\n",
    "It's the expected number of transitions from state $i$ to state $j$ compared to the expected total number of transitions away from state $i$."
   ]
  },
  {
   "cell_type": "markdown",
   "metadata": {},
   "source": [
    "$$ a_{ij}^*=\\frac{\\sum^{T-1}_{t=1}\\xi_{ij}(t)}{\\sum^{T-1}_{t=1}\\gamma_i(t)}$$"
   ]
  },
  {
   "cell_type": "markdown",
   "metadata": {},
   "source": [
    "** Update Emission Matrix** <br>\n",
    "It's the expected number of times the output observations have been equal to $v_k$ while in state $i$ over the expected total number of times in state $i$."
   ]
  },
  {
   "cell_type": "markdown",
   "metadata": {},
   "source": [
    "$$b_i^*(v_k)=\\frac{\\sum^T_{t=1} 1_{y_t=v_k} \\gamma_i(t)}{\\sum^T_{t=1} \\gamma_i(t)}$$"
   ]
  },
  {
   "cell_type": "markdown",
   "metadata": {},
   "source": [
    "**Note:**\n",
    "* It is possible to over-fit a particular data set. That is $P(Y|\\theta_{final})>P(Y|\\theta_{true})$.\n",
    "* The algorithm also does not guarantee a global maximum."
   ]
  },
  {
   "cell_type": "markdown",
   "metadata": {},
   "source": [
    "## Run Baum-Welch"
   ]
  },
  {
   "cell_type": "markdown",
   "metadata": {},
   "source": [
    "### Data Generator Function"
   ]
  },
  {
   "cell_type": "code",
   "execution_count": 5,
   "metadata": {
    "collapsed": true
   },
   "outputs": [],
   "source": [
    "def generate_HMM_observation(num_obs, pi, T, E):\n",
    "    def drawFrom(probs):\n",
    "        return np.where(np.random.multinomial(1,probs) == 1)[0][0]\n",
    "\n",
    "    obs = np.zeros(num_obs)\n",
    "    states = np.zeros(num_obs)\n",
    "    states[0] = drawFrom(pi)\n",
    "    obs[0] = drawFrom(E[:, int(states[0])])\n",
    "    for t in range(1,num_obs):\n",
    "        states[t] = drawFrom(T[int(states[t-1]),:])\n",
    "        obs[t] = drawFrom(E[:, int(states[t])])\n",
    "    return obs, states"
   ]
  },
  {
   "cell_type": "markdown",
   "metadata": {},
   "source": [
    "### True Parameters that Generated the data"
   ]
  },
  {
   "cell_type": "code",
   "execution_count": 6,
   "metadata": {
    "collapsed": true
   },
   "outputs": [],
   "source": [
    "True_pi = np.array([0.5, 0.5])\n",
    "\n",
    "True_T = np.array([[0.85, 0.15],\n",
    "                  [0.12, 0.88]])\n",
    "\n",
    "True_E = np.array([[0.8, 0.0],\n",
    "                   [0.1, 0.0],\n",
    "                   [0.1, 1.0]])"
   ]
  },
  {
   "cell_type": "markdown",
   "metadata": {},
   "source": [
    "### Generate a Sample of 50 Observations"
   ]
  },
  {
   "cell_type": "code",
   "execution_count": 12,
   "metadata": {
    "collapsed": true
   },
   "outputs": [],
   "source": [
    "obs_seq, states = generate_HMM_observation(50, True_pi, True_T, True_E)"
   ]
  },
  {
   "cell_type": "code",
   "execution_count": 13,
   "metadata": {},
   "outputs": [
    {
     "name": "stdout",
     "output_type": "stream",
     "text": [
      "First 10 Obersvations:   [ 2.  2.  2.  2.  2.  2.  2.  0.  0.  0.  0.  2.  2.  2.  2.  2.  2.  2.]\n",
      "First 10 Hidden States:  [ 1.  1.  1.  1.  1.  1.  1.  0.  0.  0.  0.  1.  1.  1.  1.  1.  1.  1.]\n"
     ]
    }
   ],
   "source": [
    "print(\"First 10 Obersvations:  \", obs_seq[:18])\n",
    "print(\"First 10 Hidden States: \", states[:18])"
   ]
  },
  {
   "cell_type": "markdown",
   "metadata": {},
   "source": [
    "### Initialize to Arbitrary Parameters"
   ]
  },
  {
   "cell_type": "code",
   "execution_count": 14,
   "metadata": {
    "collapsed": true
   },
   "outputs": [],
   "source": [
    "init_pi = np.array([0.5, 0.5])\n",
    "\n",
    "init_T = np.array([[0.5, 0.5],\n",
    "                  [0.5, 0.5]])\n",
    "\n",
    "init_E = np.array([[0.3, 0.2],\n",
    "                   [0.3, 0.5],\n",
    "                   [0.4, 0.3]])"
   ]
  },
  {
   "cell_type": "markdown",
   "metadata": {},
   "source": [
    "### Train Model"
   ]
  },
  {
   "cell_type": "code",
   "execution_count": 23,
   "metadata": {},
   "outputs": [
    {
     "name": "stdout",
     "output_type": "stream",
     "text": [
      "Transition Matrix: \n",
      "[[ 0.57598678  0.42401322]\n",
      " [ 0.57370626  0.42629374]]\n",
      "\n",
      "Emission Matrix: \n",
      "[[ 0.10521409  0.09296644]\n",
      " [ 0.          0.        ]\n",
      " [ 0.89478591  0.90703356]]\n",
      "\n",
      "Reached Convergence: \n",
      "True\n"
     ]
    }
   ],
   "source": [
    "model =  HiddenMarkovModel(init_T, init_E, init_pi, epsilon=0.0001, maxStep=12)\n",
    "\n",
    "trans0, transition, emission, c = model.run_Baum_Welch_EM(obs_seq, summary=False, monitor_state_1=True)\n",
    "\n",
    "print(\"Transition Matrix: \")\n",
    "print(transition)\n",
    "print()\n",
    "print(\"Emission Matrix: \")\n",
    "print(emission)\n",
    "print()\n",
    "print(\"Reached Convergence: \")\n",
    "print(c)"
   ]
  },
  {
   "cell_type": "markdown",
   "metadata": {},
   "source": [
    "### Plot of Probability of State 1 over multiple training steps"
   ]
  },
  {
   "cell_type": "code",
   "execution_count": 24,
   "metadata": {},
   "outputs": [
    {
     "data": {
      "image/png": "[encoded data removed]",
      "text/plain": [
       "<matplotlib.figure.Figure at 0x1b1eac350>"
      ]
     },
     "metadata": {},
     "output_type": "display_data"
    }
   ],
   "source": [
    "plt.figure(figsize=(15,6))\n",
    "plt.plot(1-model.state_summary[[0, 4, 6, 8, 9, 10]].T)\n",
    "plt.ylim(-0.1,1.1)\n",
    "plt.title('Probability State=1 over time')\n",
    "plt.xlabel('Time')\n",
    "plt.draw()"
   ]
  },
  {
   "cell_type": "markdown",
   "metadata": {},
   "source": [
    "### Plot of True State over Guess Probability of State=1"
   ]
  },
  {
   "cell_type": "code",
   "execution_count": 32,
   "metadata": {},
   "outputs": [
    {
     "data": {
      "image/png": "[encoded data removed]",
      "text/plain": [
       "<matplotlib.figure.Figure at 0x1240d92d0>"
      ]
     },
     "metadata": {},
     "output_type": "display_data"
    }
   ],
   "source": [
    "plt.figure(figsize=(15,6))\n",
    "plt.plot(states.T,'-o',alpha=0.7)\n",
    "plt.plot(1-model.state_summary[-2].T, '-o',alpha=0.7)\n",
    "plt.legend(('True State','Guessed Probability of State=1'), loc = 'right')\n",
    "plt.ylim(-0.1,1.1)\n",
    "plt.xlabel('Time')\n",
    "plt.draw()"
   ]
  },
  {
   "cell_type": "markdown",
   "metadata": {},
   "source": [
    "### Beware of Overfitting\n",
    "\n",
    "* The algorithm is clearly learning to generate the correct hidden state.\n",
    "* Baum Welch does, however, overfit quickly.\n",
    "* It is important to:\n",
    "    * Train on multiple sequences.\n",
    "    * Regularize training.\n",
    "    * Repeat inference with multiple random initial parameters."
   ]
  },
  {
   "cell_type": "code",
   "execution_count": 31,
   "metadata": {},
   "outputs": [
    {
     "name": "stdout",
     "output_type": "stream",
     "text": [
      "Accuracy:  1.0\n"
     ]
    }
   ],
   "source": [
    "pred = (1-model.state_summary[-2]) > 0.5\n",
    "print(\"Accuracy: \", np.mean(pred == states))"
   ]
  },
  {
   "cell_type": "markdown",
   "metadata": {},
   "source": [
    "## Visualize the Computation Graph with Tensorboard\n",
    "\n",
    "Each nodes expends into an exploded view of the computation graph generated by Tensorflow.\n",
    "Check it out!\n",
    "\n",
    "**Run Tensorboard on command line :**\n",
    "\n",
    "> tensorboard --logdir= [graph/file/location](https://github.com/MarvinBertin/HiddenMarkovModel_TensorFlow/tree/master/TensorBoard/Baum-Welch)\n"
   ]
  },
  {
   "cell_type": "markdown",
   "metadata": {},
   "source": [
    "![](images/BW1.png)"
   ]
  }
 ],
 "metadata": {
  "kernelspec": {
   "display_name": "Python 3",
   "language": "python",
   "name": "python3"
  },
  "language_info": {
   "codemirror_mode": {
    "name": "ipython",
    "version": 3
   },
   "file_extension": ".py",
   "mimetype": "text/x-python",
   "name": "python",
   "nbconvert_exporter": "python",
   "pygments_lexer": "ipython3",
   "version": "3.6.3"
  }
 },
 "nbformat": 4,
 "nbformat_minor": 1
}
